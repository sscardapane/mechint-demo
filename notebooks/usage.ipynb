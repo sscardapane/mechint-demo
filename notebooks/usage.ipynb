{
 "cells": [
  {
   "cell_type": "markdown",
   "metadata": {},
   "source": [
    "# Using mechint-demo\n",
    "This notebook shows how to run language models and load sparse autoencoders (SAEs).\n"
   ]
  },
  {
   "cell_type": "code",
   "execution_count": null,
   "metadata": {},
   "outputs": [],
   "source": [
    "# Install dependencies\n",
    "!pip install -q transformers accelerate torch sae-lens\n"
   ]
  },
  {
   "cell_type": "code",
   "execution_count": null,
   "metadata": {},
   "outputs": [],
   "source": [
    "from llm_runner import run_with_sae\n",
    "\n",
    "# Generate text with an SAE loaded from the Hugging Face Hub\n",
    "text, features = run_with_sae(\"Hello\", model_name=\"gpt2\", sae_repo_id=\"SAELens/gpt2-small\")\n",
    "print(text)\n",
    "print(features.shape)\n"
   ]
  },
  {
   "cell_type": "markdown",
   "metadata": {},
   "source": [
    "This example uses the open-source SAE from the `SAELens/gpt2-small` repository.\n",
    "Set `sae_repo_id=None` to run without an SAE.\n"
   ]
  }
 ],
 "metadata": {
  "kernelspec": {
   "display_name": "Python 3",
   "language": "python",
   "name": "python3"
  },
  "language_info": {
   "name": "python",
   "version": "3"
  }
 },
 "nbformat": 4,
 "nbformat_minor": 5
}